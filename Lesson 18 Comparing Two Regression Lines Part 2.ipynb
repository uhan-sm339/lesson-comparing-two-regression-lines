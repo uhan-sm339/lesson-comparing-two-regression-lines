{
 "cells": [
  {
   "cell_type": "markdown",
   "id": "d3b00561-cf0d-4903-8359-0b17895e20bb",
   "metadata": {
    "editable": true,
    "slideshow": {
     "slide_type": ""
    },
    "tags": []
   },
   "source": [
    "**SM339 &#x25aa; Applied Statistics &#x25aa; Spring 2024 &#x25aa; Uhan**"
   ]
  },
  {
   "cell_type": "markdown",
   "id": "2018bc12-f328-4d12-8e1a-d9aa9a8cabbf",
   "metadata": {},
   "source": [
    "# Lesson 18. Comparing Two Regression Lines &mdash; Part 2"
   ]
  },
  {
   "cell_type": "markdown",
   "id": "ba8e8dd8-04e7-4828-8123-3f6ed360e85f",
   "metadata": {
    "editable": true,
    "slideshow": {
     "slide_type": ""
    },
    "tags": []
   },
   "source": [
    "## Using one model to fit two lines with different intercepts"
   ]
  },
  {
   "cell_type": "markdown",
   "id": "f91556bf-b3ae-4288-8983-3025e5c33529",
   "metadata": {
    "editable": true,
    "slideshow": {
     "slide_type": ""
    },
    "tags": []
   },
   "source": [
    "### Example 1"
   ]
  },
  {
   "cell_type": "markdown",
   "id": "d9d0eb30-cd7a-441a-b8f7-7f61d2ad538b",
   "metadata": {
    "editable": true,
    "slideshow": {
     "slide_type": ""
    },
    "tags": []
   },
   "source": [
    "In a Municipal Court in Columbus, Ohio, jury duty lasts two weeks, so the court randomly summons potential jurors 26 times over the course of a year. However, not every person who receives a summons actually shows up in court, and in fact the court has noticed a negative trend in the percent of jurors reporting as the calendar year goes on. \n",
    "\n",
    "After 1998, the court implemented a variety of methods to try to increase participation rates, and they are interested in knowing if (on average) these methods made any real difference.\n",
    "\n",
    "The data `Jurors` in the `Stat2Data` library contains the participation rates for each of the 26 periods (numbered sequentially) for the years 1998 and 2000. Use this data to help answer the court's\n",
    "question."
   ]
  },
  {
   "cell_type": "markdown",
   "id": "6c47b132-62b3-4fc9-8bb0-d74470d84077",
   "metadata": {},
   "source": [
    "First, let's take a look at the data:"
   ]
  },
  {
   "cell_type": "code",
   "execution_count": null,
   "id": "4aba7509-d1af-4e11-8d10-16e641112aa7",
   "metadata": {
    "editable": true,
    "slideshow": {
     "slide_type": ""
    },
    "tags": []
   },
   "outputs": [],
   "source": [
    "library(Stat2Data)\n",
    "data(Jurors)\n",
    "head(Jurors)"
   ]
  },
  {
   "cell_type": "markdown",
   "id": "586cbb34-d492-47fc-b4ca-6c829807d5f9",
   "metadata": {
    "editable": true,
    "slideshow": {
     "slide_type": ""
    },
    "tags": []
   },
   "source": [
    "#### a.\n",
    "Make a color-coded plot of the data to help investigate what's going on. Comment on the general trends you see.\n",
    "\n",
    "_Hints._ The `col` keyword argument in `plot()` lets you specify colors. You can combine this with the `ifelse()` function to conditionally color points in your plot, like this:\n",
    "\n",
    "```r\n",
    "col = ifelse(Jurors$Year == 1998, \"black\", \"red\") \n",
    "```"
   ]
  },
  {
   "cell_type": "code",
   "execution_count": null,
   "id": "412abe45-80c8-44a0-856e-081867e2fd06",
   "metadata": {
    "editable": true,
    "slideshow": {
     "slide_type": ""
    },
    "tags": []
   },
   "outputs": [],
   "source": []
  },
  {
   "cell_type": "markdown",
   "id": "280ad5c1-51d9-4f9d-8e4b-f50250b85d24",
   "metadata": {},
   "source": [
    "*Write your notes here. Double-click to edit.*"
   ]
  },
  {
   "cell_type": "markdown",
   "id": "33f86003-87e5-411b-a765-10f03986e6b2",
   "metadata": {
    "editable": true,
    "slideshow": {
     "slide_type": ""
    },
    "tags": []
   },
   "source": [
    "#### b.\n",
    "The variable $\\mathit{I2000}$ is an indicator variable:\n",
    "\n",
    "$$ \\mathit{I2000} = \\begin{cases}\n",
    "1 & \\text{if } \\mathit{Year} = 2000\\\\\n",
    "0 & \\text{otherwise}\n",
    "\\end{cases} $$\n",
    "\n",
    "We can use the following _single_ population-level model to answer the court's question:\n",
    "\n",
    "$$ \\mathit{PctReport} = \\beta_0 + \\beta_1 \\mathit{Period} + \\beta_2 \\mathit{I2000} + \\varepsilon \\quad \\text{where} \\quad \\varepsilon \\sim \\text{iid } N(0, \\sigma_{\\varepsilon}^2) $$"
   ]
  },
  {
   "cell_type": "markdown",
   "id": "a9620ff3-d75a-453e-9eb9-8aabc562c2f1",
   "metadata": {
    "editable": true,
    "slideshow": {
     "slide_type": ""
    },
    "tags": []
   },
   "source": [
    "#### c.\n",
    "Fit the model and report the prediction equation."
   ]
  },
  {
   "cell_type": "code",
   "execution_count": null,
   "id": "269c8361-0e3b-40f2-96bd-a57835e65158",
   "metadata": {},
   "outputs": [],
   "source": []
  },
  {
   "cell_type": "markdown",
   "id": "5df0a247-6129-4837-b378-9d22fad2b18b",
   "metadata": {},
   "source": [
    "*Write your notes here. Double-click to edit.*"
   ]
  },
  {
   "cell_type": "markdown",
   "id": "10053e3b-0957-44a0-b49d-851eeb665151",
   "metadata": {
    "editable": true,
    "slideshow": {
     "slide_type": ""
    },
    "tags": []
   },
   "source": [
    "#### d.\n",
    "Interpret the coefficients."
   ]
  },
  {
   "cell_type": "markdown",
   "id": "3195f7c1-e570-4c02-ae23-96428a53b410",
   "metadata": {},
   "source": [
    "*Write your notes here. Double-click to edit.*"
   ]
  },
  {
   "cell_type": "markdown",
   "id": "8e870a60-e99c-4bd4-aa3f-025a7c2ecb1b",
   "metadata": {},
   "source": [
    "#### e.\n",
    "Does the model to appear to be a \"good\" model? Check the diagnostic plots, overall ANOVA F-test, and $R^2$."
   ]
  },
  {
   "cell_type": "code",
   "execution_count": null,
   "id": "6cf99f94-1a28-43f4-bb2d-add412be03aa",
   "metadata": {},
   "outputs": [],
   "source": []
  },
  {
   "cell_type": "markdown",
   "id": "79232ef4-90f0-4763-b33a-9ebce748d5a8",
   "metadata": {},
   "source": [
    "*Write your notes here. Double-click to edit.*"
   ]
  },
  {
   "cell_type": "markdown",
   "id": "b3701f09-9c83-47e0-8f3e-5393e4bb0001",
   "metadata": {
    "editable": true,
    "slideshow": {
     "slide_type": ""
    },
    "tags": []
   },
   "source": [
    "#### f.\n",
    "Use a formal statistical test to address the court's question: \n",
    "> Do you see evidence that, after accounting for the period of the year, the percentage of summoned jurors who reported to court was significantly different in 2000 than in 1998?"
   ]
  },
  {
   "cell_type": "markdown",
   "id": "a5f93a12-f32b-46e2-a7e2-0a94921c5194",
   "metadata": {
    "editable": true,
    "slideshow": {
     "slide_type": ""
    },
    "tags": []
   },
   "source": [
    "*Write your notes here. Double-click to edit.*"
   ]
  },
  {
   "cell_type": "markdown",
   "id": "422ba4c1-a1e4-4e11-a290-a3cc58204624",
   "metadata": {
    "editable": true,
    "slideshow": {
     "slide_type": ""
    },
    "tags": []
   },
   "source": [
    "#### g.\n",
    "Provide a confidence interval that estimates the size of the average change (after accounting for the period of the year) in juror turnout from 1998 to 2000."
   ]
  },
  {
   "cell_type": "code",
   "execution_count": null,
   "id": "e5a4ec0d-8e6a-435d-8545-bc48b7daf7ae",
   "metadata": {
    "editable": true,
    "slideshow": {
     "slide_type": ""
    },
    "tags": []
   },
   "outputs": [],
   "source": []
  },
  {
   "cell_type": "markdown",
   "id": "6ef32bd4-4d65-4b00-9655-76fb438bb808",
   "metadata": {
    "editable": true,
    "slideshow": {
     "slide_type": ""
    },
    "tags": []
   },
   "source": [
    "## Using categorical variables in regression models with R "
   ]
  },
  {
   "cell_type": "markdown",
   "id": "989f2f20-8d05-42f1-93b2-19043a37e6fa",
   "metadata": {
    "editable": true,
    "slideshow": {
     "slide_type": ""
    },
    "tags": []
   },
   "source": [
    "* There are two other ways to include categorical variables into your model in R\n",
    "\n",
    "* Instead of using the pre-defined indicator (which may not exist in other data sets!), you can create your own with the `I()` function, like this:"
   ]
  },
  {
   "cell_type": "code",
   "execution_count": null,
   "id": "08b2f40f-1f1d-4753-9458-687650ed68ab",
   "metadata": {
    "editable": true,
    "slideshow": {
     "slide_type": ""
    },
    "tags": []
   },
   "outputs": [],
   "source": [
    "fit2 <- lm(PctReport ~ Period + I(Year == 2000), data = Jurors)\n",
    "summary(fit2)"
   ]
  },
  {
   "cell_type": "markdown",
   "id": "dd871c99-d313-43b5-9488-c8405b60b17f",
   "metadata": {
    "editable": true,
    "slideshow": {
     "slide_type": ""
    },
    "tags": []
   },
   "source": [
    "* As another option, you can tell R that the original variable (in our example, $\\mathit{Year}$) is categorical with the `as.factor()` function, like this:"
   ]
  },
  {
   "cell_type": "code",
   "execution_count": null,
   "id": "0a2e2cba-a3ec-4bac-b576-d32c4034cb66",
   "metadata": {
    "editable": true,
    "slideshow": {
     "slide_type": ""
    },
    "tags": []
   },
   "outputs": [],
   "source": [
    "fit3 <- lm(PctReport ~ Period + as.factor(Year), data = Jurors)\n",
    "summary(fit3)"
   ]
  },
  {
   "cell_type": "markdown",
   "id": "e5084758-ba67-487a-ae26-9614acb1d90a",
   "metadata": {
    "editable": true,
    "slideshow": {
     "slide_type": ""
    },
    "tags": []
   },
   "source": [
    "## Using one model to fit two lines with different intercepts AND different slopes"
   ]
  },
  {
   "cell_type": "markdown",
   "id": "35d1de99-a89c-4779-b649-0c6ce73db42c",
   "metadata": {
    "editable": true,
    "slideshow": {
     "slide_type": ""
    },
    "tags": []
   },
   "source": [
    "### Example 2"
   ]
  },
  {
   "cell_type": "markdown",
   "id": "0defba94-fb5f-414e-a240-c8b7bee108b0",
   "metadata": {
    "editable": true,
    "slideshow": {
     "slide_type": ""
    },
    "tags": []
   },
   "source": [
    "In Example 1, we analyzed the $\\mathit{Jurors}$ dataset to determine whether there was a difference in juror turnout ($\\mathit{PctReport}$) between the years 1998 and 2000, after accounting for the time of year ($\\mathit{Period}$).\n",
    "\n",
    "The model we used, which __did not__ allow the two years to have different slopes for $\\mathit{Period}$, was:\n",
    "\n",
    "$$ \\mathit{PctReport} = \\beta_0 + \\beta_1 \\mathit{Period} + \\beta_2 \\mathit{I2000} + \\varepsilon \\quad \\text{where} \\quad \\varepsilon \\sim \\text{iid } N(0, \\sigma_{\\varepsilon}^2) $$\n",
    "\n",
    "Now we want to allow different intercepts __and__ different slopes for $\\mathit{Period}$. We can do so with the following model:\n",
    "\n",
    "$$ \\mathit{PctReport} = \\beta_0 + \\beta_1 \\mathit{Period} + \\beta_2 \\mathit{I2000} + \\beta_3 (\\fbox{$\\mathit{Period}$} \\times \\mathit{I2000}) + \\varepsilon \\quad \\text{where} \\quad \\varepsilon \\sim \\text{iid } N(0, \\sigma_{\\varepsilon}^2) $$ "
   ]
  },
  {
   "cell_type": "markdown",
   "id": "c5d6a01f-cd59-4674-831d-1ccc9a82f04b",
   "metadata": {
    "editable": true,
    "slideshow": {
     "slide_type": ""
    },
    "tags": []
   },
   "source": [
    "#### a.\n",
    "Fit the model and provide the summary output.\n",
    "\n",
    "To include an interaction term between variables `x` and `y` in R, use a colon, like this:\n",
    "\n",
    "```r\n",
    "x:y \n",
    "```"
   ]
  },
  {
   "cell_type": "code",
   "execution_count": null,
   "id": "f8d044f4-25c0-4785-b778-eb338a469f6b",
   "metadata": {
    "editable": true,
    "slideshow": {
     "slide_type": ""
    },
    "tags": []
   },
   "outputs": [],
   "source": []
  },
  {
   "cell_type": "markdown",
   "id": "371af654-9d17-40e7-a566-f1b49f3e4160",
   "metadata": {
    "editable": true,
    "slideshow": {
     "slide_type": ""
    },
    "tags": []
   },
   "source": [
    "#### b.\n",
    "Do we see statistical evidence that the _rate of change_ in juror turnout over the course of the year differs between 1998 and 2000? Provide the four steps for the hypothesis test of the relevant coefficient."
   ]
  },
  {
   "cell_type": "markdown",
   "id": "b1cd5410-bcbc-4299-b73f-d697b6b569d9",
   "metadata": {},
   "source": [
    "*Write your notes here. Double-click to edit.*"
   ]
  },
  {
   "cell_type": "markdown",
   "id": "5f4767ff-4578-4f65-9294-25ac228783ce",
   "metadata": {
    "editable": true,
    "slideshow": {
     "slide_type": ""
    },
    "tags": []
   },
   "source": [
    "## Exercises"
   ]
  },
  {
   "cell_type": "markdown",
   "id": "4c57b36e-74ca-4091-ac99-3f8eb766fef0",
   "metadata": {
    "editable": true,
    "slideshow": {
     "slide_type": ""
    },
    "tags": []
   },
   "source": [
    "### Problem 1\n",
    "Suppose we are interested in how the growth rates of boys and girls compare.\n",
    "\n",
    "The dataset `Kids198` from `Stat2Data` contains the ages (in months) and weights (in pounds) for a random sample of 198 children. Girls are coded as $\\mathit{Sex} = 1$ and boys are corded as $\\mathit{Sex} = 0$."
   ]
  },
  {
   "cell_type": "code",
   "execution_count": null,
   "id": "cbd3703b-83bb-4d6f-a7a3-f016e82da2b7",
   "metadata": {
    "editable": true,
    "slideshow": {
     "slide_type": ""
    },
    "tags": []
   },
   "outputs": [],
   "source": [
    "library(Stat2Data)\n",
    "data(Kids198)\n",
    "head(Kids198)"
   ]
  },
  {
   "cell_type": "markdown",
   "id": "b11f7296-60db-4918-b7bd-0144b64cd644",
   "metadata": {},
   "source": [
    "#### a.\n",
    "Make a color-coded plot of the data, and comment on the general trends you see."
   ]
  },
  {
   "cell_type": "code",
   "execution_count": null,
   "id": "6ca798f4-e450-470b-b6a0-0b557e94611a",
   "metadata": {},
   "outputs": [],
   "source": []
  },
  {
   "cell_type": "markdown",
   "id": "64d6d58d-1b04-40a1-bf2e-c5c11b3b53f9",
   "metadata": {},
   "source": [
    "*Write your notes here. Double-click to edit.*"
   ]
  },
  {
   "cell_type": "markdown",
   "id": "272d4a6d-7bc6-484d-a994-cda14c50a8e4",
   "metadata": {},
   "source": [
    "#### b.\n",
    "Specify the single model you will use to answer the research question."
   ]
  },
  {
   "cell_type": "markdown",
   "id": "3564e6c1-a668-4ebe-8a17-99afbb048d90",
   "metadata": {},
   "source": [
    "*Write your notes here. Double-click to edit.*"
   ]
  },
  {
   "cell_type": "markdown",
   "id": "7f6f6f5f-70df-4005-8c7b-ba808fb27840",
   "metadata": {},
   "source": [
    "#### c.\n",
    "Fit the model and report the prediction equation."
   ]
  },
  {
   "cell_type": "code",
   "execution_count": null,
   "id": "7a70767a-f5ba-452d-9e11-af07416bd667",
   "metadata": {},
   "outputs": [],
   "source": []
  },
  {
   "cell_type": "markdown",
   "id": "c33bc3d3-a9b5-4e09-bff1-2c617ec46396",
   "metadata": {
    "editable": true,
    "slideshow": {
     "slide_type": ""
    },
    "tags": []
   },
   "source": [
    "*Solution.*\n",
    "\n",
    "$$ \\widehat{\\mathit{Weight}} = -33.69254 + 0.90871 \\mathit{Age} + 31.85057 \\mathit{Sex} - 0.28122 (\\mathit{Age} \\times \\mathit{Sex}) $$"
   ]
  },
  {
   "cell_type": "markdown",
   "id": "ecfac420-7958-4037-840a-b40cbe3110a4",
   "metadata": {},
   "source": [
    "#### d.\n",
    "Does the model appear to be a \"good\" model? Justify your answer."
   ]
  },
  {
   "cell_type": "code",
   "execution_count": null,
   "id": "e6a60c79-af09-495a-9957-a0a9d5bbff74",
   "metadata": {},
   "outputs": [],
   "source": []
  },
  {
   "cell_type": "markdown",
   "id": "1b66c021-a019-4a15-8189-644c97ad9309",
   "metadata": {},
   "source": [
    "*Write your notes here. Double-click to edit.*"
   ]
  },
  {
   "cell_type": "markdown",
   "id": "fb75838a-8cc3-47e6-82d8-8aee9b9988a7",
   "metadata": {},
   "source": [
    "#### e.\n",
    "Is the growth rate (i.e., the slope of $\\mathit{Age}$) significantly different for boys versus girls? Justify your answer."
   ]
  },
  {
   "cell_type": "markdown",
   "id": "8e5f230a-0afc-43a7-b2a9-e205ce1409c7",
   "metadata": {},
   "source": [
    "*Write your notes here. Double-click to edit.*"
   ]
  },
  {
   "cell_type": "markdown",
   "id": "0f96c43c-ad0c-4c67-9abd-4d09ec596a90",
   "metadata": {
    "editable": true,
    "slideshow": {
     "slide_type": ""
    },
    "tags": []
   },
   "source": [
    "#### f.\n",
    "Provide an interval estimating how much the growth rates differ.\n",
    "Be clear which sex appears to grow faster."
   ]
  },
  {
   "cell_type": "code",
   "execution_count": null,
   "id": "bd52270b-cd16-4f0f-9c7d-155ef954c1af",
   "metadata": {
    "editable": true,
    "slideshow": {
     "slide_type": ""
    },
    "tags": []
   },
   "outputs": [],
   "source": []
  },
  {
   "cell_type": "markdown",
   "id": "5bf900f2-06a4-4438-8c71-51c8e434376f",
   "metadata": {
    "editable": true,
    "slideshow": {
     "slide_type": ""
    },
    "tags": []
   },
   "source": [
    "*Write your notes here. Double-click to edit.*"
   ]
  }
 ],
 "metadata": {
  "kernelspec": {
   "display_name": "R",
   "language": "R",
   "name": "ir"
  },
  "language_info": {
   "codemirror_mode": "r",
   "file_extension": ".r",
   "mimetype": "text/x-r-source",
   "name": "R",
   "pygments_lexer": "r",
   "version": "4.2.2"
  }
 },
 "nbformat": 4,
 "nbformat_minor": 5
}
